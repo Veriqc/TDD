{
 "cells": [
  {
   "cell_type": "code",
   "execution_count": 1,
   "id": "5af8955b-5f5d-409d-9a3b-5223f5cf73e9",
   "metadata": {},
   "outputs": [],
   "source": [
    "import numpy as np\n",
    "from qiskit import *\n",
    "from qiskit.quantum_info.operators import Operator\n",
    "import time\n",
    "import tensornetwork as tn\n",
    "import graphviz"
   ]
  },
  {
   "cell_type": "code",
   "execution_count": 2,
   "id": "665fb742-b52a-4601-ab90-fdcbb5269b54",
   "metadata": {},
   "outputs": [],
   "source": [
    "def is_diagonal(U):\n",
    "    i, j = np.nonzero(U)\n",
    "    return np.all(i == j)\n",
    "\n",
    "def add_hyper_index(var_list,hyper_index):\n",
    "    for var in var_list:\n",
    "        if not var in hyper_index:\n",
    "            hyper_index[var]=0\n",
    "            \n",
    "def reshape(U):\n",
    "    if U.shape==(2,2):\n",
    "        return U\n",
    "    \n",
    "    if U.shape[0]==U.shape[1]:\n",
    "        split_U=np.split(U,2,1)\n",
    "    else:\n",
    "        split_U=np.split(U,2,0)\n",
    "    split_U[0]=reshape(split_U[0])\n",
    "    split_U[1]=reshape(split_U[1]) \n",
    "    return np.array([split_U])[0]            \n",
    "            \n",
    "def get_real_qubit_num(cir):\n",
    "    \"\"\"Calculate the maximun number of qubits of a circuit\"\"\"\n",
    "    gates=cir.data\n",
    "    q=0\n",
    "    for k in range(len(gates)):\n",
    "        q=max(q,max([qbit.index for qbit in gates[k][1]]))\n",
    "    return q+1"
   ]
  },
  {
   "cell_type": "code",
   "execution_count": 3,
   "id": "e40c9e29-44b3-42e7-a152-25de9a8dccef",
   "metadata": {},
   "outputs": [
    {
     "data": {
      "image/png": "[encoded data removed]",
      "text/plain": [
       "<Figure size 327.397x204.68 with 1 Axes>"
      ]
     },
     "execution_count": 3,
     "metadata": {},
     "output_type": "execute_result"
    }
   ],
   "source": [
    "cir=QuantumCircuit(3)\n",
    "cir.h(0)\n",
    "cir.cx(0,1)\n",
    "cir.cz(2,0)\n",
    "cir.x(1)\n",
    "cir.t(2)\n",
    "cir.draw('mpl')"
   ]
  },
  {
   "cell_type": "code",
   "execution_count": 5,
   "id": "aa7a543f-ead3-4189-a722-89a32e34804a",
   "metadata": {},
   "outputs": [
    {
     "name": "stderr",
     "output_type": "stream",
     "text": [
      "/tmp/ipykernel_13151/2967669766.py:27: DeprecationWarning: Back-references to from Bit instances to their containing Registers have been deprecated. Instead, inspect Registers to find their contained Bits.\n",
      "  q=max(q,max([qbit.index for qbit in gates[k][1]]))\n",
      "/tmp/ipykernel_13151/1595193436.py:7: DeprecationWarning: Back-references to from Bit instances to their containing Registers have been deprecated. Instead, inspect Registers to find their contained Bits.\n",
      "  q = [q.index for q in g[1]]  #Which qubit operate the gate.\n"
     ]
    },
    {
     "data": {
      "text/plain": [
       "[Node\n",
       " (\n",
       " name : 'h',\n",
       " tensor : \n",
       " array([[ 0.70710678+0.j,  0.70710678+0.j],\n",
       "        [ 0.70710678+0.j, -0.70710678+0.j]]),\n",
       " edges : \n",
       " [\n",
       " Edge(Dangling Edge)[0] \n",
       " , \n",
       " Edge(Dangling Edge)[1] \n",
       " ] \n",
       " ),\n",
       " Node\n",
       " (\n",
       " name : 'cx',\n",
       " tensor : \n",
       " array([[1.+0.j, 0.+0.j, 0.+0.j, 0.+0.j],\n",
       "        [0.+0.j, 0.+0.j, 0.+0.j, 1.+0.j],\n",
       "        [0.+0.j, 0.+0.j, 1.+0.j, 0.+0.j],\n",
       "        [0.+0.j, 1.+0.j, 0.+0.j, 0.+0.j]]),\n",
       " edges : \n",
       " [\n",
       " Edge(Dangling Edge)[0] \n",
       " , \n",
       " Edge(Dangling Edge)[1] \n",
       " ] \n",
       " ),\n",
       " Node\n",
       " (\n",
       " name : 'cz',\n",
       " tensor : \n",
       " array([[ 1.+0.j,  0.+0.j,  0.+0.j,  0.+0.j],\n",
       "        [ 0.+0.j,  1.+0.j,  0.+0.j,  0.+0.j],\n",
       "        [ 0.+0.j,  0.+0.j,  1.+0.j,  0.+0.j],\n",
       "        [ 0.+0.j,  0.+0.j,  0.+0.j, -1.+0.j]]),\n",
       " edges : \n",
       " [\n",
       " Edge(Dangling Edge)[0] \n",
       " , \n",
       " Edge(Dangling Edge)[1] \n",
       " ] \n",
       " ),\n",
       " Node\n",
       " (\n",
       " name : 'x',\n",
       " tensor : \n",
       " array([[0.+0.j, 1.+0.j],\n",
       "        [1.+0.j, 0.+0.j]]),\n",
       " edges : \n",
       " [\n",
       " Edge(Dangling Edge)[0] \n",
       " , \n",
       " Edge(Dangling Edge)[1] \n",
       " ] \n",
       " ),\n",
       " Node\n",
       " (\n",
       " name : 't',\n",
       " tensor : \n",
       " array([[1.        +0.j        , 0.        +0.j        ],\n",
       "        [0.        +0.j        , 0.70710678+0.70710678j]]),\n",
       " edges : \n",
       " [\n",
       " Edge(Dangling Edge)[0] \n",
       " , \n",
       " Edge(Dangling Edge)[1] \n",
       " ] \n",
       " )]"
      ]
     },
     "execution_count": 5,
     "metadata": {},
     "output_type": "execute_result"
    }
   ],
   "source": [
    "qubits_num=get_real_qubit_num(cir)\n",
    "gates=cir.data\n",
    "Node=[]\n",
    "for k in range(len(gates)):\n",
    "    g=gates[k] #kth qubit.\n",
    "    nam=g[0].name  #gate name.\n",
    "    q = [q.index for q in g[1]]  #Which qubit operate the gate.\n",
    "    U = g[0].to_matrix() #get the gate matrix\n",
    "    \n",
    "    Node.append(tn.Node(U,nam))\n",
    "Node"
   ]
  }
 ],
 "metadata": {
  "kernelspec": {
   "display_name": "qiskit",
   "language": "python",
   "name": "qiskit"
  },
  "language_info": {
   "codemirror_mode": {
    "name": "ipython",
    "version": 3
   },
   "file_extension": ".py",
   "mimetype": "text/x-python",
   "name": "python",
   "nbconvert_exporter": "python",
   "pygments_lexer": "ipython3",
   "version": "3.9.7"
  }
 },
 "nbformat": 4,
 "nbformat_minor": 5
}
