{
 "cells": [
  {
   "cell_type": "code",
   "execution_count": 13,
   "id": "5af8955b-5f5d-409d-9a3b-5223f5cf73e9",
   "metadata": {},
   "outputs": [],
   "source": [
    "import numpy as np\n",
    "from qiskit import *\n",
    "from qiskit.quantum_info.operators import Operator\n",
    "import time\n",
    "# import tensornetwork as tn\n",
    "# import graphviz\n",
    "\n",
    "\n",
    "from TDD.TDD_Q import cir_2_tn\n",
    "import TDD.TDD, TDD.TN "
   ]
  },
  {
   "cell_type": "code",
   "execution_count": 14,
   "id": "665fb742-b52a-4601-ab90-fdcbb5269b54",
   "metadata": {},
   "outputs": [],
   "source": [
    "# def is_diagonal(U):\n",
    "#     i, j = np.nonzero(U)\n",
    "#     return np.all(i == j)\n",
    "\n",
    "# def add_hyper_index(var_list,hyper_index):\n",
    "#     for var in var_list:\n",
    "#         if not var in hyper_index:\n",
    "#             hyper_index[var]=0\n",
    "            \n",
    "# def reshape(U):\n",
    "#     if U.shape==(2,2):\n",
    "#         return U\n",
    "    \n",
    "#     if U.shape[0]==U.shape[1]:\n",
    "#         split_U=np.split(U,2,1)\n",
    "#     else:\n",
    "#         split_U=np.split(U,2,0)\n",
    "#     split_U[0]=reshape(split_U[0])\n",
    "#     split_U[1]=reshape(split_U[1]) \n",
    "#     return np.array([split_U])[0]            \n",
    "            \n",
    "# def get_real_qubit_num(cir):\n",
    "#     \"\"\"Calculate the maximun number of qubits of a circuit\"\"\"\n",
    "#     gates=cir.data\n",
    "#     q=0\n",
    "#     for k in range(len(gates)):\n",
    "#         q=max(q,max([qbit.index for qbit in gates[k][1]]))\n",
    "#     return q+1"
   ]
  },
  {
   "cell_type": "code",
   "execution_count": 15,
   "id": "e40c9e29-44b3-42e7-a152-25de9a8dccef",
   "metadata": {},
   "outputs": [
    {
     "data": {
      "image/png": "[encoded data removed]",
      "text/plain": [
       "<Figure size 327.397x204.68 with 1 Axes>"
      ]
     },
     "execution_count": 15,
     "metadata": {},
     "output_type": "execute_result"
    }
   ],
   "source": [
    "cir=QuantumCircuit(3)\n",
    "cir.h(0)\n",
    "cir.cx(0,1)\n",
    "cir.cz(2,0)\n",
    "cir.x(1)\n",
    "cir.t(2)\n",
    "cir.draw('mpl')"
   ]
  },
  {
   "cell_type": "markdown",
   "id": "72919463-e6ae-4ea6-bdd2-58a537e5dd3b",
   "metadata": {},
   "source": [
    "\n",
    "# 1 qubit -> edge[0]=in edge[1]=out \n",
    "\n",
    "# 2 qubit -> edge[0],[1]=in1,in2 edge[2][3]=out1,out2"
   ]
  },
  {
   "cell_type": "code",
   "execution_count": 16,
   "id": "aa7a543f-ead3-4189-a722-89a32e34804a",
   "metadata": {},
   "outputs": [],
   "source": [
    "# qubits_num=get_real_qubit_num(cir) #Get the maximun qubits num.\n",
    "# gates=cir.data #Get circuit all gates data. \n",
    "# Node=[]\n",
    "# edge=[]\n",
    "# gate_count=[0]*qubits_num\n",
    "# gate_label=[0]*qubits_num\n",
    "\n",
    "# for k in range(len(gates)):\n",
    "#     g=gates[k] #kth qubit.\n",
    "#     nam=g[0].name  #gate name.\n",
    "#     q = [q.index for q in g[1]]  #Which qubit operate the gate.\n",
    "#     U = g[0].to_matrix() #Get the gate matrix\n",
    "#     if len(q)>1:\n",
    "#         U=reshape(U) #Reshape 2-qubits gate to 4-order tensor.\n",
    "#     Node.append(tn.Node(U,nam))\n",
    "    \n",
    "#     if gate_count[q[0]]==0:\n",
    "#         Node[k][0].set_name('x_'+str(q[0]))\n",
    "#     else:\n",
    "#         # edge_1=Node[gate_label[q[0]]][1] ^ Node[k][0]\n",
    "#         # edge_1.set_name('x_'+str(q[0]+'_'+str(gate_count[q[0]]))\n",
    "#         # edge.append(edge_1)\n",
    "#         edge.append(Node[gate_label[q[0]]][1] ^ Node[k][0])\n",
    "       \n",
    "#     gate_count[q[0]]+=1\n",
    "#     gate_label[q[0]]=k\n",
    "#     if len(q)>1:\n",
    "#         gate_count[q[1]]+=1\n",
    "#         gate_label[q[1]]=k\n",
    "# # Node"
   ]
  },
  {
   "cell_type": "code",
   "execution_count": 17,
   "id": "0dc07ea8-33cb-4e11-8179-b47795611353",
   "metadata": {},
   "outputs": [],
   "source": [
    "# tn.to_graphviz(Node)"
   ]
  },
  {
   "cell_type": "code",
   "execution_count": 18,
   "id": "68d06edf",
   "metadata": {},
   "outputs": [
    {
     "name": "stdout",
     "output_type": "stream",
     "text": [
      "None\n",
      "None\n",
      "None\n",
      "gate h\n",
      "gate cx\n",
      "Connect x0_1 and __unnamed_edge__ as x0_1\n",
      "gate cz\n",
      "Connect x0_1 and x2_0 as x0_1\n",
      "gate x\n",
      "Connect x1_1 and __unnamed_edge__ as x1_1\n",
      "gate t\n",
      "Connect x2_0 and __unnamed_edge__ as x2_0\n"
     ]
    },
    {
     "data": {
      "image/svg+xml": "<?xml version=\"1.0\" encoding=\"UTF-8\" standalone=\"no\"?>\n<!DOCTYPE svg PUBLIC \"-//W3C//DTD SVG 1.1//EN\"\n \"http://www.w3.org/Graphics/SVG/1.1/DTD/svg11.dtd\">\n<!-- Generated by graphviz version 2.43.0 (0)\n -->\n<!-- Title: G Pages: 1 -->\n<svg width=\"390pt\" height=\"335pt\"\n viewBox=\"0.00 0.00 390.14 334.76\" xmlns=\"http://www.w3.org/2000/svg\" xmlns:xlink=\"http://www.w3.org/1999/xlink\">\n<g id=\"graph0\" class=\"graph\" transform=\"scale(1 1) rotate(0) translate(4 330.76)\">\n<title>G</title>\n<polygon fill=\"white\" stroke=\"transparent\" points=\"-4,4 -4,-330.76 386.14,-330.76 386.14,4 -4,4\"/>\n<!-- 140497995232496 -->\n<g id=\"node1\" class=\"node\">\n<title>140497995232496</title>\n<ellipse fill=\"none\" stroke=\"black\" cx=\"91.42\" cy=\"-223.98\" rx=\"27\" ry=\"18\"/>\n<text text-anchor=\"middle\" x=\"91.42\" y=\"-220.28\" font-family=\"Times,serif\" font-size=\"14.00\">h</text>\n</g>\n<!-- 140497995860192 -->\n<g id=\"node2\" class=\"node\">\n<title>140497995860192</title>\n<ellipse fill=\"none\" stroke=\"black\" cx=\"155.33\" cy=\"-171.72\" rx=\"27\" ry=\"18\"/>\n<text text-anchor=\"middle\" x=\"155.33\" y=\"-168.02\" font-family=\"Times,serif\" font-size=\"14.00\">cx</text>\n</g>\n<!-- 140497995232496&#45;&#45;140497995860192 -->\n<g id=\"edge2\" class=\"edge\">\n<title>140497995232496&#45;&#45;140497995860192</title>\n<path fill=\"none\" stroke=\"black\" d=\"M108.55,-209.98C117.72,-202.48 128.98,-193.27 138.16,-185.76\"/>\n<text text-anchor=\"middle\" x=\"106.35\" y=\"-186.67\" font-family=\"Times,serif\" font-size=\"14.00\">x0_1</text>\n</g>\n<!-- 140497995234272 -->\n<g id=\"node3\" class=\"node\">\n<title>140497995234272</title>\n<ellipse fill=\"none\" stroke=\"black\" cx=\"198.2\" cy=\"-95.93\" rx=\"27\" ry=\"18\"/>\n<text text-anchor=\"middle\" x=\"198.2\" y=\"-92.23\" font-family=\"Times,serif\" font-size=\"14.00\">cz</text>\n</g>\n<!-- 140497995860192&#45;&#45;140497995234272 -->\n<g id=\"edge3\" class=\"edge\">\n<title>140497995860192&#45;&#45;140497995234272</title>\n<path fill=\"none\" stroke=\"black\" d=\"M165.06,-154.52C172.12,-142.03 181.64,-125.21 188.66,-112.8\"/>\n<text text-anchor=\"middle\" x=\"159.86\" y=\"-137.46\" font-family=\"Times,serif\" font-size=\"14.00\">x0_1</text>\n</g>\n<!-- 140497995288192 -->\n<g id=\"node4\" class=\"node\">\n<title>140497995288192</title>\n<ellipse fill=\"none\" stroke=\"black\" cx=\"202.78\" cy=\"-240.56\" rx=\"27\" ry=\"18\"/>\n<text text-anchor=\"middle\" x=\"202.78\" y=\"-236.86\" font-family=\"Times,serif\" font-size=\"14.00\">x</text>\n</g>\n<!-- 140497995860192&#45;&#45;140497995288192 -->\n<g id=\"edge5\" class=\"edge\">\n<title>140497995860192&#45;&#45;140497995288192</title>\n<path fill=\"none\" stroke=\"black\" d=\"M166.82,-188.38C174.28,-199.2 183.96,-213.25 191.4,-224.05\"/>\n<text text-anchor=\"middle\" x=\"162.11\" y=\"-210.01\" font-family=\"Times,serif\" font-size=\"14.00\">x1_1</text>\n</g>\n<!-- 140497994879904 -->\n<g id=\"node5\" class=\"node\">\n<title>140497994879904</title>\n<ellipse fill=\"none\" stroke=\"black\" cx=\"281.58\" cy=\"-92.13\" rx=\"27\" ry=\"18\"/>\n<text text-anchor=\"middle\" x=\"281.58\" y=\"-88.43\" font-family=\"Times,serif\" font-size=\"14.00\">t</text>\n</g>\n<!-- 140497995234272&#45;&#45;140497994879904 -->\n<g id=\"edge7\" class=\"edge\">\n<title>140497995234272&#45;&#45;140497994879904</title>\n<path fill=\"none\" stroke=\"black\" d=\"M225.5,-94.69C234.81,-94.26 245.21,-93.79 254.5,-93.36\"/>\n<text text-anchor=\"middle\" x=\"240\" y=\"-82.82\" font-family=\"Times,serif\" font-size=\"14.00\">x2_0</text>\n</g>\n<!-- 140497995232496_0 -->\n<!-- 140497995232496_0&#45;&#45;140497995232496 -->\n<g id=\"edge1\" class=\"edge\">\n<title>140497995232496_0&#45;&#45;140497995232496</title>\n<path fill=\"none\" stroke=\"black\" d=\"M46.33,-253.75C54.48,-248.37 63.96,-242.11 72.11,-236.73\"/>\n<text text-anchor=\"middle\" x=\"50.22\" y=\"-234.04\" font-family=\"Times,serif\" font-size=\"14.00\">x0</text>\n</g>\n<!-- 140497995860192_2 -->\n<!-- 140497995860192_2&#45;&#45;140497995860192 -->\n<g id=\"edge4\" class=\"edge\">\n<title>140497995860192_2&#45;&#45;140497995860192</title>\n<path fill=\"none\" stroke=\"black\" d=\"M103.48,-147.57C112.85,-151.94 123.74,-157.01 133.12,-161.38\"/>\n<text text-anchor=\"middle\" x=\"118.3\" y=\"-143.27\" font-family=\"Times,serif\" font-size=\"14.00\">x1</text>\n</g>\n<!-- 140497995234272_0 -->\n<!-- 140497995234272_0&#45;&#45;140497995234272 -->\n<g id=\"edge6\" class=\"edge\">\n<title>140497995234272_0&#45;&#45;140497995234272</title>\n<path fill=\"none\" stroke=\"black\" d=\"M211.12,-36.07C208.4,-48.66 204.79,-65.38 202.08,-77.95\"/>\n<text text-anchor=\"middle\" x=\"197.6\" y=\"-60.81\" font-family=\"Times,serif\" font-size=\"14.00\">x2</text>\n</g>\n<!-- 140497995234272_3 -->\n<!-- 140497995234272_3&#45;&#45;140497995234272 -->\n<g id=\"edge8\" class=\"edge\">\n<title>140497995234272_3&#45;&#45;140497995234272</title>\n<path fill=\"none\" stroke=\"black\" d=\"M155.74,-48.48C164.35,-58.1 175.37,-70.42 184.03,-80.09\"/>\n<text text-anchor=\"middle\" x=\"160.88\" y=\"-68.08\" font-family=\"Times,serif\" font-size=\"14.00\">y0</text>\n</g>\n<!-- 140497995288192_1 -->\n<!-- 140497995288192_1&#45;&#45;140497995288192 -->\n<g id=\"edge9\" class=\"edge\">\n<title>140497995288192_1&#45;&#45;140497995288192</title>\n<path fill=\"none\" stroke=\"black\" d=\"M230.59,-291.55C224.91,-281.13 217.69,-267.9 212.03,-257.53\"/>\n<text text-anchor=\"middle\" x=\"212.31\" y=\"-278.34\" font-family=\"Times,serif\" font-size=\"14.00\">y1</text>\n</g>\n<!-- 140497994879904_1 -->\n<!-- 140497994879904_1&#45;&#45;140497994879904 -->\n<g id=\"edge10\" class=\"edge\">\n<title>140497994879904_1&#45;&#45;140497994879904</title>\n<path fill=\"none\" stroke=\"black\" d=\"M330.64,-76.54C322.7,-79.07 313.9,-81.86 305.97,-84.38\"/>\n<text text-anchor=\"middle\" x=\"318.3\" y=\"-69.26\" font-family=\"Times,serif\" font-size=\"14.00\">y2</text>\n</g>\n</g>\n</svg>\n",
      "text/plain": [
       "<graphviz.graphs.Graph at 0x7fc83d1f4c40>"
      ]
     },
     "execution_count": 18,
     "metadata": {},
     "output_type": "execute_result"
    }
   ],
   "source": [
    "cir_2_tn(cir)[0].show(3)\n"
   ]
  },
  {
   "cell_type": "code",
   "execution_count": null,
   "id": "7f0b3efe",
   "metadata": {},
   "outputs": [],
   "source": []
  }
 ],
 "metadata": {
  "interpreter": {
   "hash": "06cba8887e6156d8cf780c05c96a3f62d3a6e417048d85a718fc61d158b1208c"
  },
  "kernelspec": {
   "display_name": "qiskit",
   "language": "python",
   "name": "python3"
  },
  "language_info": {
   "codemirror_mode": {
    "name": "ipython",
    "version": 3
   },
   "file_extension": ".py",
   "mimetype": "text/x-python",
   "name": "python",
   "nbconvert_exporter": "python",
   "pygments_lexer": "ipython3",
   "version": "3.9.7"
  }
 },
 "nbformat": 4,
 "nbformat_minor": 5
}
