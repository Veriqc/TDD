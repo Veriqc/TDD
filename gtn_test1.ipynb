{
 "cells": [
  {
   "cell_type": "code",
   "execution_count": 1,
   "id": "5af8955b-5f5d-409d-9a3b-5223f5cf73e9",
   "metadata": {},
   "outputs": [],
   "source": [
    "import numpy as np\n",
    "from qiskit import *\n",
    "from qiskit.quantum_info.operators import Operator\n",
    "import time\n",
    "import tensornetwork as tn\n",
    "import graphviz"
   ]
  },
  {
   "cell_type": "code",
   "execution_count": 2,
   "id": "665fb742-b52a-4601-ab90-fdcbb5269b54",
   "metadata": {},
   "outputs": [],
   "source": [
    "def is_diagonal(U):\n",
    "    i, j = np.nonzero(U)\n",
    "    return np.all(i == j)\n",
    "\n",
    "def add_hyper_index(var_list,hyper_index):\n",
    "    for var in var_list:\n",
    "        if not var in hyper_index:\n",
    "            hyper_index[var]=0\n",
    "            \n",
    "def reshape(U):\n",
    "    if U.shape==(2,2):\n",
    "        return U\n",
    "    \n",
    "    if U.shape[0]==U.shape[1]:\n",
    "        split_U=np.split(U,2,1)\n",
    "    else:\n",
    "        split_U=np.split(U,2,0)\n",
    "    split_U[0]=reshape(split_U[0])\n",
    "    split_U[1]=reshape(split_U[1]) \n",
    "    return np.array([split_U])[0]            \n",
    "            \n",
    "def get_real_qubit_num(cir):\n",
    "    \"\"\"Calculate the maximun number of qubits of a circuit\"\"\"\n",
    "    gates=cir.data\n",
    "    q=0\n",
    "    for k in range(len(gates)):\n",
    "        q=max(q,max([qbit.index for qbit in gates[k][1]]))\n",
    "    return q+1"
   ]
  },
  {
   "cell_type": "code",
   "execution_count": 3,
   "id": "e40c9e29-44b3-42e7-a152-25de9a8dccef",
   "metadata": {},
   "outputs": [
    {
     "data": {
      "image/png": "[encoded data removed]",
      "text/plain": [
       "<Figure size 327.397x204.68 with 1 Axes>"
      ]
     },
     "execution_count": 3,
     "metadata": {},
     "output_type": "execute_result"
    }
   ],
   "source": [
    "cir=QuantumCircuit(3)\n",
    "cir.h(0)\n",
    "cir.cx(0,1)\n",
    "cir.cz(2,0)\n",
    "cir.x(1)\n",
    "cir.t(2)\n",
    "cir.draw('mpl')"
   ]
  },
  {
   "cell_type": "markdown",
   "id": "72919463-e6ae-4ea6-bdd2-58a537e5dd3b",
   "metadata": {},
   "source": [
    "\n",
    "# 1 qubit -> edge[0]=in edge[1]=out \n",
    "\n",
    "# 2 qubit -> edge[0],[1]=in1,in2 edge[2][3]=out1,out2"
   ]
  },
  {
   "cell_type": "code",
   "execution_count": 4,
   "id": "aa7a543f-ead3-4189-a722-89a32e34804a",
   "metadata": {},
   "outputs": [
    {
     "name": "stderr",
     "output_type": "stream",
     "text": [
      "/tmp/ipykernel_18658/2967669766.py:27: DeprecationWarning: Back-references to from Bit instances to their containing Registers have been deprecated. Instead, inspect Registers to find their contained Bits.\n",
      "  q=max(q,max([qbit.index for qbit in gates[k][1]]))\n",
      "/tmp/ipykernel_18658/2261654404.py:11: DeprecationWarning: Back-references to from Bit instances to their containing Registers have been deprecated. Instead, inspect Registers to find their contained Bits.\n",
      "  q = [q.index for q in g[1]]  #Which qubit operate the gate.\n"
     ]
    }
   ],
   "source": [
    "qubits_num=get_real_qubit_num(cir) #Get the maximun qubits num.\n",
    "gates=cir.data #Get circuit all gates data. \n",
    "Node=[]\n",
    "edge=[]\n",
    "gate_count=[0]*qubits_num\n",
    "gate_label=[0]*qubits_num\n",
    "\n",
    "for k in range(len(gates)):\n",
    "    g=gates[k] #kth qubit.\n",
    "    nam=g[0].name  #gate name.\n",
    "    q = [q.index for q in g[1]]  #Which qubit operate the gate.\n",
    "    U = g[0].to_matrix() #Get the gate matrix\n",
    "    if len(q)>1:\n",
    "        U=reshape(U) #Reshape 2-qubits gate to 4-order tensor.\n",
    "    Node.append(tn.Node(U,nam))\n",
    "    \n",
    "    if gate_count[q[0]]==0:\n",
    "        Node[k][0].set_name('x_'+str(q[0]))\n",
    "    else:\n",
    "        # edge_1=Node[gate_label[q[0]]][1] ^ Node[k][0]\n",
    "        # edge_1.set_name('x_'+str(q[0]+'_'+str(gate_count[q[0]]))\n",
    "        # edge.append(edge_1)\n",
    "        edge.append(Node[gate_label[q[0]]][1] ^ Node[k][0])\n",
    "       \n",
    "    gate_count[q[0]]+=1\n",
    "    gate_label[q[0]]=k\n",
    "    if len(q)>1:\n",
    "        gate_count[q[1]]+=1\n",
    "        gate_label[q[1]]=k\n",
    "# Node"
   ]
  },
  {
   "cell_type": "code",
   "execution_count": 5,
   "id": "0dc07ea8-33cb-4e11-8179-b47795611353",
   "metadata": {},
   "outputs": [
    {
     "data": {
      "image/svg+xml": [
       "<?xml version=\"1.0\" encoding=\"UTF-8\" standalone=\"no\"?>\n",
       "<!DOCTYPE svg PUBLIC \"-//W3C//DTD SVG 1.1//EN\"\n",
       " \"http://www.w3.org/Graphics/SVG/1.1/DTD/svg11.dtd\">\n",
       "<!-- Generated by graphviz version 2.43.0 (0)\n",
       " -->\n",
       "<!-- Title: G Pages: 1 -->\n",
       "<svg width=\"473pt\" height=\"457pt\"\n",
       " viewBox=\"0.00 0.00 473.10 457.25\" xmlns=\"http://www.w3.org/2000/svg\" xmlns:xlink=\"http://www.w3.org/1999/xlink\">\n",
       "<g id=\"graph0\" class=\"graph\" transform=\"scale(1 1) rotate(0) translate(4 453.25)\">\n",
       "<title>G</title>\n",
       "<polygon fill=\"white\" stroke=\"transparent\" points=\"-4,4 -4,-453.25 469.1,-453.25 469.1,4 -4,4\"/>\n",
       "<!-- 139665010045664 -->\n",
       "<g id=\"node1\" class=\"node\">\n",
       "<title>139665010045664</title>\n",
       "<ellipse fill=\"none\" stroke=\"black\" cx=\"88.79\" cy=\"-208.26\" rx=\"27\" ry=\"18\"/>\n",
       "<text text-anchor=\"middle\" x=\"88.79\" y=\"-204.56\" font-family=\"Times,serif\" font-size=\"14.00\">h</text>\n",
       "</g>\n",
       "<!-- 139665008397376 -->\n",
       "<g id=\"node2\" class=\"node\">\n",
       "<title>139665008397376</title>\n",
       "<ellipse fill=\"none\" stroke=\"black\" cx=\"160.37\" cy=\"-170.73\" rx=\"27\" ry=\"18\"/>\n",
       "<text text-anchor=\"middle\" x=\"160.37\" y=\"-167.03\" font-family=\"Times,serif\" font-size=\"14.00\">cx</text>\n",
       "</g>\n",
       "<!-- 139665010045664&#45;&#45;139665008397376 -->\n",
       "<g id=\"edge2\" class=\"edge\">\n",
       "<title>139665010045664&#45;&#45;139665008397376</title>\n",
       "<path fill=\"none\" stroke=\"black\" d=\"M110.26,-197C119.32,-192.25 129.85,-186.73 138.91,-181.98\"/>\n",
       "</g>\n",
       "<!-- 139665008397568 -->\n",
       "<g id=\"node4\" class=\"node\">\n",
       "<title>139665008397568</title>\n",
       "<ellipse fill=\"none\" stroke=\"black\" cx=\"142.97\" cy=\"-91.88\" rx=\"27\" ry=\"18\"/>\n",
       "<text text-anchor=\"middle\" x=\"142.97\" y=\"-88.18\" font-family=\"Times,serif\" font-size=\"14.00\">x</text>\n",
       "</g>\n",
       "<!-- 139665008397376&#45;&#45;139665008397568 -->\n",
       "<g id=\"edge3\" class=\"edge\">\n",
       "<title>139665008397376&#45;&#45;139665008397568</title>\n",
       "<path fill=\"none\" stroke=\"black\" d=\"M156.42,-152.84C153.57,-139.94 149.74,-122.59 146.9,-109.7\"/>\n",
       "</g>\n",
       "<!-- 139665008397712 -->\n",
       "<g id=\"node3\" class=\"node\">\n",
       "<title>139665008397712</title>\n",
       "<ellipse fill=\"none\" stroke=\"black\" cx=\"350.12\" cy=\"-305.44\" rx=\"27\" ry=\"18\"/>\n",
       "<text text-anchor=\"middle\" x=\"350.12\" y=\"-301.74\" font-family=\"Times,serif\" font-size=\"14.00\">cz</text>\n",
       "</g>\n",
       "<!-- 139665008397664 -->\n",
       "<g id=\"node5\" class=\"node\">\n",
       "<title>139665008397664</title>\n",
       "<ellipse fill=\"none\" stroke=\"black\" cx=\"397.81\" cy=\"-368.84\" rx=\"27\" ry=\"18\"/>\n",
       "<text text-anchor=\"middle\" x=\"397.81\" y=\"-365.14\" font-family=\"Times,serif\" font-size=\"14.00\">t</text>\n",
       "</g>\n",
       "<!-- 139665008397712&#45;&#45;139665008397664 -->\n",
       "<g id=\"edge7\" class=\"edge\">\n",
       "<title>139665008397712&#45;&#45;139665008397664</title>\n",
       "<path fill=\"none\" stroke=\"black\" d=\"M362.4,-321.77C369.47,-331.16 378.32,-342.93 385.4,-352.35\"/>\n",
       "</g>\n",
       "<!-- 139665010045664_0 -->\n",
       "<!-- 139665010045664_0&#45;&#45;139665010045664 -->\n",
       "<g id=\"edge1\" class=\"edge\">\n",
       "<title>139665010045664_0&#45;&#45;139665010045664</title>\n",
       "<path fill=\"none\" stroke=\"black\" d=\"M45.87,-237.87C53.4,-232.68 62.05,-226.71 69.6,-221.49\"/>\n",
       "<text text-anchor=\"middle\" x=\"45.24\" y=\"-218.48\" font-family=\"Times,serif\" font-size=\"14.00\">x_0</text>\n",
       "</g>\n",
       "<!-- 139665008397376_2 -->\n",
       "<!-- 139665008397376_2&#45;&#45;139665008397376 -->\n",
       "<g id=\"edge4\" class=\"edge\">\n",
       "<title>139665008397376_2&#45;&#45;139665008397376</title>\n",
       "<path fill=\"none\" stroke=\"black\" d=\"M213.67,-160.5C204.91,-162.18 195.14,-164.05 186.38,-165.74\"/>\n",
       "</g>\n",
       "<!-- 139665008397376_3 -->\n",
       "<!-- 139665008397376_3&#45;&#45;139665008397376 -->\n",
       "<g id=\"edge5\" class=\"edge\">\n",
       "<title>139665008397376_3&#45;&#45;139665008397376</title>\n",
       "<path fill=\"none\" stroke=\"black\" d=\"M190.21,-224.03C184.02,-212.97 175.99,-198.62 169.81,-187.6\"/>\n",
       "</g>\n",
       "<!-- 139665008397712_0 -->\n",
       "<!-- 139665008397712_0&#45;&#45;139665008397712 -->\n",
       "<g id=\"edge6\" class=\"edge\">\n",
       "<title>139665008397712_0&#45;&#45;139665008397712</title>\n",
       "<path fill=\"none\" stroke=\"black\" d=\"M314.98,-258.34C321.99,-267.74 330.78,-279.51 337.81,-288.94\"/>\n",
       "<text text-anchor=\"middle\" x=\"313.9\" y=\"-277.44\" font-family=\"Times,serif\" font-size=\"14.00\">x_2</text>\n",
       "</g>\n",
       "<!-- 139665008397712_2 -->\n",
       "<!-- 139665008397712_2&#45;&#45;139665008397712 -->\n",
       "<g id=\"edge8\" class=\"edge\">\n",
       "<title>139665008397712_2&#45;&#45;139665008397712</title>\n",
       "<path fill=\"none\" stroke=\"black\" d=\"M300.34,-332.4C309.34,-327.52 319.8,-321.86 328.8,-316.99\"/>\n",
       "</g>\n",
       "<!-- 139665008397712_3 -->\n",
       "<!-- 139665008397712_3&#45;&#45;139665008397712 -->\n",
       "<g id=\"edge9\" class=\"edge\">\n",
       "<title>139665008397712_3&#45;&#45;139665008397712</title>\n",
       "<path fill=\"none\" stroke=\"black\" d=\"M392.56,-263.51C384.16,-271.8 373.75,-282.09 365.34,-290.4\"/>\n",
       "</g>\n",
       "<!-- 139665008397568_1 -->\n",
       "<!-- 139665008397568_1&#45;&#45;139665008397568 -->\n",
       "<g id=\"edge10\" class=\"edge\">\n",
       "<title>139665008397568_1&#45;&#45;139665008397568</title>\n",
       "<path fill=\"none\" stroke=\"black\" d=\"M133.19,-35.88C135.2,-47.42 137.81,-62.36 139.83,-73.91\"/>\n",
       "</g>\n",
       "<!-- 139665008397664_1 -->\n",
       "<!-- 139665008397664_1&#45;&#45;139665008397664 -->\n",
       "<g id=\"edge11\" class=\"edge\">\n",
       "<title>139665008397664_1&#45;&#45;139665008397664</title>\n",
       "<path fill=\"none\" stroke=\"black\" d=\"M427.3,-414.53C421.52,-405.57 414.42,-394.57 408.63,-385.61\"/>\n",
       "</g>\n",
       "</g>\n",
       "</svg>\n"
      ],
      "text/plain": [
       "<graphviz.graphs.Graph at 0x7f064b3edf70>"
      ]
     },
     "execution_count": 5,
     "metadata": {},
     "output_type": "execute_result"
    }
   ],
   "source": [
    "tn.to_graphviz(Node)"
   ]
  }
 ],
 "metadata": {
  "kernelspec": {
   "display_name": "qiskit",
   "language": "python",
   "name": "qiskit"
  },
  "language_info": {
   "codemirror_mode": {
    "name": "ipython",
    "version": 3
   },
   "file_extension": ".py",
   "mimetype": "text/x-python",
   "name": "python",
   "nbconvert_exporter": "python",
   "pygments_lexer": "ipython3",
   "version": "3.9.7"
  }
 },
 "nbformat": 4,
 "nbformat_minor": 5
}
