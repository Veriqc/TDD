{
 "cells": [
  {
   "cell_type": "code",
   "execution_count": 10,
   "metadata": {},
   "outputs": [],
   "source": [
    "import numpy as np\n",
    "import tensornetwork as tn\n",
    "import time\n",
    "import datetime\n",
    "from qiskit import QuantumCircuit\n",
    "from qiskit.quantum_info.operators import Operator\n",
    "from func_timeout import func_set_timeout\n",
    "import pandas as pd"
   ]
  },
  {
   "cell_type": "code",
   "execution_count": 11,
   "metadata": {},
   "outputs": [],
   "source": [
    "def apply_gate(qubit_edges, gate, operating_qubits):\n",
    "    op = tn.Node(gate)\n",
    "    for i, bit in enumerate(operating_qubits):\n",
    "        tn.connect(qubit_edges[bit], op[i])\n",
    "        qubit_edges[bit] = op[i + len(operating_qubits)]"
   ]
  },
  {
   "cell_type": "code",
   "execution_count": 12,
   "metadata": {},
   "outputs": [],
   "source": [
    "def matrix_2_np(U,q):\n",
    "    if len(q)!=2:\n",
    "        return U\n",
    "    U_new=np.zeros((2, 2, 2, 2), dtype=complex)\n",
    "    for k1 in range(2):\n",
    "        for k2 in range(2):\n",
    "            for k3 in range(2):\n",
    "                for k4 in range(2):\n",
    "                    U_new[k1][k2][k3][k4]=U[2*k2+k1][2*k4+k3]\n",
    "    return U_new\n",
    "\n",
    "def np_2_matrix(U,q_num):\n",
    "    U_new=np.zeros((2**q_num,2**q_num), dtype=complex)\n",
    "    for k1 in range(2**q_num):\n",
    "        for k2 in range(2**q_num):\n",
    "            b1=[int(b1) for b1 in list(bin(k1)[2:])]\n",
    "            for k3 in range(q_num-len(b1)):\n",
    "                b1.insert(0,0)\n",
    "            b2=[int(b2) for b2 in list(bin(k2)[2:])]\n",
    "            for k3 in range(q_num-len(b2)):\n",
    "                b2.insert(0,0)            \n",
    "            temp=U\n",
    "            for b in b1:\n",
    "                temp=temp[b]\n",
    "            for b in b2:\n",
    "                temp=temp[b]\n",
    "            U_new[k1][k2]=temp\n",
    "    return U_new"
   ]
  },
  {
   "cell_type": "code",
   "execution_count": 13,
   "metadata": {},
   "outputs": [],
   "source": [
    "def get_real_qubits_num(cir):\n",
    "    gates=cir.data\n",
    "    q=0\n",
    "    for k in range(len(gates)):\n",
    "        q=max(q,max([qbit.index for qbit in gates[k][1]]))\n",
    "    return q+1"
   ]
  },
  {
   "cell_type": "code",
   "execution_count": 14,
   "metadata": {},
   "outputs": [],
   "source": [
    "@func_set_timeout(3600)\n",
    "def Simulation_with_TensorNetwork(cir):\n",
    "    all_nodes = []\n",
    "    with tn.NodeCollection(all_nodes):\n",
    "        qubits_num=get_real_qubits_num(cir)\n",
    "#         print(qubits_num)\n",
    "        state_nodes = [\n",
    "            tn.Node(np.eye(2, dtype=complex)) for _ in range(qubits_num)\n",
    "        ]\n",
    "        \n",
    "        qubits0=[node[0] for node in state_nodes]\n",
    "        qubits = [node[1] for node in state_nodes]\n",
    "        gates=cir.data\n",
    "        for k in range(len(gates)):\n",
    "            U=Operator(gates[k][0]).data\n",
    "            q=[qbit.index for qbit in gates[k][1]]\n",
    "            if len(q)==2:\n",
    "                U=matrix_2_np(U,q)\n",
    "#             print(k,U)\n",
    "            apply_gate(qubits, U, q)\n",
    "        edge_order=qubits0+qubits\n",
    "#         print(edge_order)\n",
    "        result = tn.contractors.auto(all_nodes, output_edge_order=edge_order).tensor\n",
    "        return result"
   ]
  },
  {
   "cell_type": "code",
   "execution_count": 15,
   "metadata": {},
   "outputs": [],
   "source": [
    "def Simulation_with_time_out(cir):\n",
    "    try:\n",
    "        return Simulation_with_TensorNetwork(cir)\n",
    "    except:\n",
    "        return 0"
   ]
  },
  {
   "cell_type": "code",
   "execution_count": 16,
   "metadata": {
    "scrolled": false
   },
   "outputs": [
    {
     "name": "stdout",
     "output_type": "stream",
     "text": [
      "0.3119978904724121\n"
     ]
    }
   ],
   "source": [
    "path='Benchmarks/'\n",
    "file_name=\"4_49_16.qasm\"\n",
    "cir=QuantumCircuit.from_qasm_file(path+file_name)\n",
    "t_start= time.time()\n",
    "U=Simulation_with_TensorNetwork(cir)\n",
    "t_end=time.time()\n",
    "print(t_end-t_start)\n",
    "# qubits_num=get_real_qubits_num(cir)\n",
    "# U=np_2_matrix(U,qubits_num)\n",
    "# print(U)"
   ]
  },
  {
   "cell_type": "code",
   "execution_count": 17,
   "metadata": {
    "scrolled": false
   },
   "outputs": [],
   "source": [
    "# path='Benchmarks2/'\n",
    "# file_list = open('test.txt','r')\n",
    "# excel_path = 'data.xlsx'\n",
    "# result=[]\n",
    "# with open('computed.txt','r') as f:\n",
    "#     for line in f:\n",
    "#         result.append(line[:-1])\n",
    "\n",
    "# data = [\"New\"]\n",
    "# data=np.array(data).reshape(1,len(data))\n",
    "# df = pd.read_excel(excel_path, header=None)\n",
    "# ds = pd.DataFrame(data)\n",
    "# df = df.append(ds, ignore_index=True)\n",
    "# df.to_excel(excel_path, index=False, header=False)\n",
    "\n",
    "# for file in file_list.readlines():\n",
    "#     file_name=file[:-1]\n",
    "\n",
    "#     if file_name in result:\n",
    "#         continue\n",
    "#     print(file_name)\n",
    "    \n",
    "#     cir=QuantumCircuit.from_qasm_file(path+file_name)\n",
    "#     qubits_num=get_real_qubits_num(cir)\n",
    "    \n",
    "#     data = []\n",
    "#     data.append(file_name)\n",
    "#     data.append(qubits_num)\n",
    "    \n",
    "#     time_now = datetime.datetime.now()\n",
    "# #     print(time_now.strftime('%m.%d-%H:%M:%S'))\n",
    "    \n",
    "#     t_start = time.time()\n",
    "#     res=Simulation_with_time_out(cir)\n",
    "#     run_time=time.time()-t_start\n",
    "# #     print(run_time)\n",
    "#     data.append(run_time)\n",
    "#     if isinstance(res,int):\n",
    "#         data.append(-1)\n",
    "        \n",
    "    \n",
    "#     data=np.array(data).reshape(1,len(data))\n",
    "#     df = pd.read_excel(excel_path, header=None)\n",
    "#     ds = pd.DataFrame(data)\n",
    "#     df = df.append(ds, ignore_index=True)\n",
    "#     df.to_excel(excel_path, index=False, header=False)\n",
    "#     f=open('computed.txt','a')\n",
    "#     f.write(file_name+'\\n')\n",
    "#     f.close()\n",
    "# file_list.close()"
   ]
  },
  {
   "cell_type": "code",
   "execution_count": null,
   "metadata": {},
   "outputs": [],
   "source": []
  },
  {
   "cell_type": "code",
   "execution_count": null,
   "metadata": {},
   "outputs": [],
   "source": []
  }
 ],
 "metadata": {
  "kernelspec": {
   "display_name": "Python 3",
   "language": "python",
   "name": "python3"
  },
  "language_info": {
   "codemirror_mode": {
    "name": "ipython",
    "version": 3
   },
   "file_extension": ".py",
   "mimetype": "text/x-python",
   "name": "python",
   "nbconvert_exporter": "python",
   "pygments_lexer": "ipython3",
   "version": "3.7.6"
  }
 },
 "nbformat": 4,
 "nbformat_minor": 4
}
