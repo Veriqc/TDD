{
 "cells": [
  {
   "cell_type": "code",
   "execution_count": 4,
   "metadata": {},
   "outputs": [],
   "source": [
    "import numpy as np\n",
    "from TDD.TDD import Ini_TDD,Clear_TDD,set_index_order,get_unique_table_num,cont,get_count,get_unique_table,get_unique_table_num\n",
    "from TDD.TDD_Q import cir_2_tn,get_real_qubit_num,add_trace_line,add_inputs,add_outputs,gen_cir\n",
    "from TDD.TN import Index,Tensor,TensorNetwork\n",
    "import time\n",
    "import random\n",
    "from qiskit import QuantumCircuit"
   ]
  },
  {
   "cell_type": "code",
   "execution_count": 5,
   "metadata": {},
   "outputs": [
    {
     "data": {
      "image/png": "[encoded data removed]",
      "text/plain": [
       "<IPython.core.display.Image object>"
      ]
     },
     "execution_count": 5,
     "metadata": {},
     "output_type": "execute_result"
    }
   ],
   "source": [
    "order = ['x0','y0','z0','x1','y1','z1','x2','y2','z2']\n",
    "order.reverse()\n",
    "Ini_TDD(order)\n",
    "H=1/np.sqrt(2)*np.array([[1,1],[1,-1]])\n",
    "X=np.array([[0,1],[1,0]])\n",
    "Z=np.array([[1,0],[0,-1]])\n",
    "var=[Index('x0'),Index('y0')]\n",
    "ts1=Tensor(H,var)\n",
    "\n",
    "tdd1=ts1.tdd()\n",
    "# tdd1.show(False)\n",
    "\n",
    "var2=[Index('y0'),Index('z0')]\n",
    "ts2=Tensor(H,var2)\n",
    "tdd2=ts2.tdd()\n",
    "# # tn=TensorNetwork([ts1,ts2])\n",
    "# # tdd=tn.cont()\n",
    "tdd=cont(tdd1,tdd2)\n",
    "# tdd.show()\n",
    "tdd.show()"
   ]
  },
  {
   "cell_type": "code",
   "execution_count": 6,
   "metadata": {
    "scrolled": false
   },
   "outputs": [
    {
     "name": "stdout",
     "output_type": "stream",
     "text": [
      "(-0.031249999999999976-0.031249999999999976j)\n",
      "2172\n",
      "{0: 'x0', 1: 'y0', 2: 'x1', 3: 'y1', 4: 'x2', 5: 'y2', 6: 'x3', 7: 'y3', 8: 'x4', 9: 'y4', 10: 'x5', 11: 'y5', 12: 'x6', 13: 'y6', 14: 'x7', 15: 'y7', 16: 'x8', 17: 'y8', 18: 'x9', 19: 'y9'}\n"
     ]
    }
   ],
   "source": [
    "path='Benchmarks/'\n",
    "path=''\n",
    "# file_name=\"3_17_13.qasm\"\n",
    "file_name=\"test.qasm\"\n",
    "cir = QuantumCircuit.from_qasm_file(path+file_name)\n",
    "tn,all_indexs = cir_2_tn(cir)\n",
    "n=get_real_qubit_num(cir)\n",
    "# add_inputs(tn,[0]*n,n)\n",
    "# all_indexs.reverse()\n",
    "# print(all_indexs)\n",
    "Ini_TDD(index_order=all_indexs,max_rank=300)\n",
    "t_start=time.time()\n",
    "# start = get_current_memory_gb()\n",
    "tdd=tn.cont()\n",
    "# print(time.time()-t_start)\n",
    "print(tdd.weight)\n",
    "print(tdd.node_number())\n",
    "print(tdd.key_2_index)\n",
    "# print(get_unique_table_num())\n",
    "# end = get_current_memory_gb()\n",
    "# print(end-start)\n",
    "# get_count()\n",
    "# tdd.show()"
   ]
  },
  {
   "cell_type": "code",
   "execution_count": 7,
   "metadata": {
    "scrolled": false
   },
   "outputs": [
    {
     "name": "stdout",
     "output_type": "stream",
     "text": [
      "(-0.1249999999999999+0.1249999999999999j)\n",
      "3070\n"
     ]
    }
   ],
   "source": [
    "Ini_TDD(index_order=all_indexs,max_rank=300)\n",
    "tdd=tn.cont(optimizer='cir_partition1')\n",
    "print(tdd.weight)\n",
    "print(tdd.node_number())\n",
    "# tdd.show()"
   ]
  },
  {
   "cell_type": "code",
   "execution_count": 8,
   "metadata": {
    "scrolled": true
   },
   "outputs": [
    {
     "name": "stdout",
     "output_type": "stream",
     "text": [
      "(-0.12499999999999989+0.12499999999999992j)\n",
      "3070\n"
     ]
    }
   ],
   "source": [
    "Ini_TDD(index_order=all_indexs,max_rank=300)\n",
    "tdd=tn.cont(optimizer='cir_partition2')\n",
    "print(tdd.weight)\n",
    "print(tdd.node_number())\n",
    "# print(tdd.key_2_index)\n",
    "# tdd.show()"
   ]
  },
  {
   "cell_type": "code",
   "execution_count": 9,
   "metadata": {},
   "outputs": [],
   "source": [
    "# n=15\n",
    "# m=200\n",
    "# cir=gen_cir('Random_Clifford',n,m,True)\n",
    "# tn,all_indexs = cir_2_tn(cir)\n",
    "# n=get_real_qubit_num(cir)\n",
    "# # add_inputs(tn,[0]*n,n)\n",
    "# all_indexs.reverse()\n",
    "# Ini_TDD(index_order=all_indexs)\n",
    "# t_start=time.time()\n",
    "# tdd=tn.cont()\n",
    "# print(time.time()-t_start)\n",
    "# print(tdd.weight)\n",
    "# print(tdd.node_number())\n",
    "# # tdd.show()"
   ]
  },
  {
   "cell_type": "code",
   "execution_count": null,
   "metadata": {},
   "outputs": [],
   "source": []
  }
 ],
 "metadata": {
  "kernelspec": {
   "display_name": "Python 3",
   "language": "python",
   "name": "python3"
  },
  "language_info": {
   "codemirror_mode": {
    "name": "ipython",
    "version": 3
   },
   "file_extension": ".py",
   "mimetype": "text/x-python",
   "name": "python",
   "nbconvert_exporter": "python",
   "pygments_lexer": "ipython3",
   "version": "3.7.6"
  }
 },
 "nbformat": 4,
 "nbformat_minor": 4
}
